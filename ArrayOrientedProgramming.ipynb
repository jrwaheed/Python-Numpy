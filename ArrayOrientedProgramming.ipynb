{
 "cells": [
  {
   "cell_type": "code",
   "execution_count": 12,
   "id": "initial_id",
   "metadata": {
    "ExecuteTime": {
     "end_time": "2025-06-30T18:04:04.123144Z",
     "start_time": "2025-06-30T18:04:03.715474Z"
    },
    "collapsed": true
   },
   "outputs": [
    {
     "name": "stdout",
     "output_type": "stream",
     "text": [
      "[-5.  -4.5 -4.  -3.5 -3.  -2.5 -2.  -1.5 -1.  -0.5  0.   0.5  1.   1.5\n",
      "  2.   2.5  3.   3.5  4.   4.5]\n",
      "[2.1 2.2 2.3 1.4 1.5]\n"
     ]
    },
    {
     "data": {
      "image/png": "[encoded data removed]",
      "text/plain": [
       "<Figure size 640x480 with 1 Axes>"
      ]
     },
     "metadata": {},
     "output_type": "display_data"
    }
   ],
   "source": [
    "import numpy as np\n",
    "import matplotlib.pyplot as plt\n",
    "import matplotlib.cm as cm\n",
    "\n",
    "# Create an array with start, end and step\n",
    "points = np.arange(-5, 5, .5)\n",
    "points_two = np.arange(10, 20, 1)\n",
    "print(points)\n",
    "\n",
    "xs, xy = np.meshgrid(points, points)\n",
    "\n",
    "\n",
    "z = np.sqrt(xs**2 + xy**2)\n",
    "\n",
    "plt.imshow(z, cmap='gray', extent=[-5, 5, -5, 5])\n",
    "\n",
    "\n",
    "xarr = np.array([1.1, 1.2,1.3,1.4,1.5])\n",
    "yarr = np.array([2.1, 2.2,2.3,2.4,2.5])\n",
    "cond = np.array([True, False, True, True, False])\n",
    "\n",
    "result = np.where(xarr > 1.3, xarr, yarr)\n",
    "print(result)\n",
    "\n",
    "\n"
   ]
  },
  {
   "cell_type": "code",
   "execution_count": null,
   "id": "a5d4dfbc",
   "metadata": {},
   "outputs": [],
   "source": [
    "string =\"dgdsfgdfgd \\n\""
   ]
  }
 ],
 "metadata": {
  "kernelspec": {
   "display_name": "Python 3 (ipykernel)",
   "language": "python",
   "name": "python3"
  },
  "language_info": {
   "codemirror_mode": {
    "name": "ipython",
    "version": 3
   },
   "file_extension": ".py",
   "mimetype": "text/x-python",
   "name": "python",
   "nbconvert_exporter": "python",
   "pygments_lexer": "ipython3",
   "version": "3.12.3"
  }
 },
 "nbformat": 4,
 "nbformat_minor": 5
}
